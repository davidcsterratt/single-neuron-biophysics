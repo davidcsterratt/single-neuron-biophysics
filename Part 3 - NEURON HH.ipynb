{
 "cells": [
  {
   "cell_type": "markdown",
   "id": "56ed4abd-5d24-4351-bf17-0448ed2f23fb",
   "metadata": {},
   "source": [
    "# Single Neuron Biophysics notebooks\n",
    "\n",
    "*David Sterratt, October 2025*\n",
    "\n",
    "These notebooks accompany the MSc Neuroscience lecture on Single Neuron Biophysics"
   ]
  },
  {
   "cell_type": "markdown",
   "id": "8521f744-77a3-4585-b4de-151f14493a07",
   "metadata": {},
   "source": [
    "## Part 3: Using the NEURON simulation library to simulate the Hodgkin-Huxley model\n",
    "\n",
    "We'll now use NEURON to simulate the Hodgkin-Huxely model."
   ]
  },
  {
   "cell_type": "code",
   "execution_count": null,
   "id": "f3510948-7daf-4792-8581-69ebef08d080",
   "metadata": {},
   "outputs": [],
   "source": [
    "!pip install neuron"
   ]
  },
  {
   "cell_type": "markdown",
   "id": "94b89343-a31a-4bcf-b644-6d76dafdb8d6",
   "metadata": {},
   "source": [
    "Now import the relevant parts of NEURON. Don't worry about the warning about the DISPLAY variable."
   ]
  },
  {
   "cell_type": "code",
   "execution_count": null,
   "id": "945f2178-93c3-4616-8b13-b8600a42a06b",
   "metadata": {},
   "outputs": [],
   "source": [
    "from neuron import n\n",
    "from neuron.units import ms, mV\n",
    "n.load_file(\"stdrun.hoc\")"
   ]
  },
  {
   "cell_type": "markdown",
   "id": "4af59d5d-a1f0-41b4-951b-94ce43ebf381",
   "metadata": {},
   "source": [
    "We'll also import the graphics plotting package before we start"
   ]
  },
  {
   "cell_type": "code",
   "execution_count": null,
   "id": "f64661ec-35ca-40f6-aeff-1d38a695ac33",
   "metadata": {},
   "outputs": [],
   "source": [
    "from bokeh.io import output_notebook # A module that we need to plot \n",
    "import bokeh.plotting as plt         # A module that we need to plot \n",
    "output_notebook()"
   ]
  },
  {
   "cell_type": "markdown",
   "id": "bd6c7731-ef0f-4b3f-a81d-c964be79e4b5",
   "metadata": {},
   "source": [
    "### 3.A Create and run a cell model\n",
    "\n",
    "We will first construct a NEURON simulation based on the Hodgkin-Huxley model of the action\n",
    "potential in a small, isopotential section of the squid giant axon.+\n",
    "\n",
    "![img](hh-compartmentA.png)\n",
    "\n",
    "To create the Hodgkin-Huxley model, we use similar code to the previous tutorial, but we insert an `hh` mechanism instead of a `pas` mechanism."
   ]
  },
  {
   "cell_type": "code",
   "execution_count": null,
   "id": "227b18bb-cf1d-4894-993f-a5a0833f9022",
   "metadata": {},
   "outputs": [],
   "source": [
    "# Create the soma\n",
    "soma = n.Section(\"soma\")\n",
    "\n",
    "# Insert the HH mechanism\n",
    "soma.insert(n.hh)\n",
    "\n",
    "## Print the section\n",
    "soma.psection()"
   ]
  },
  {
   "cell_type": "markdown",
   "id": "2ced2417-f5ba-4b6e-a6da-c94579a6a4c2",
   "metadata": {},
   "source": [
    "The table below shows the mathematical symbols and their equivalents in NEURON. Some mathematical relationships\n",
    "are also shown.\n",
    "\n",
    "![img](hh-symbols-table.png)\n",
    "\n",
    "We can now run the simulation with the code below. What would you expect to see?"
   ]
  },
  {
   "cell_type": "code",
   "execution_count": null,
   "id": "42525ec6-b221-40b1-83d5-6c340bec22df",
   "metadata": {},
   "outputs": [],
   "source": [
    "# Set up recordings of the membrane potential and time\n",
    "v = n.Vector().record(soma(0.5)._ref_v)      # Membrane potential vector\n",
    "i_na = n.Vector().record(soma(0.5)._ref_ina)  # Current through passive mechanism\n",
    "i_k = n.Vector().record(soma(0.5)._ref_ik)  # Current through passive mechanism\n",
    "t = n.Vector().record(n._ref_t)              # Time stamp vector\n",
    "\n",
    "# Set the initial membrane potential to -65mV\n",
    "n.finitialize(-65 * mV)\n",
    "\n",
    "# Run for 40 milliseconds\n",
    "n.continuerun(100 * ms)"
   ]
  },
  {
   "cell_type": "code",
   "execution_count": null,
   "id": "d72a9a21-619f-4b5b-a262-66fe7992838b",
   "metadata": {},
   "outputs": [],
   "source": [
    "f = plt.figure(x_axis_label=\"t (ms)\", y_axis_label=\"v (mV)\", aspect_ratio=2)\n",
    "f.line(t, v, line_width=2)\n",
    "plt.show(f)\n"
   ]
  },
  {
   "cell_type": "markdown",
   "id": "734d9cc9-aabf-411b-a415-a059e7a116cb",
   "metadata": {},
   "source": [
    "There are no input currents to the neuron at this point. The phenomenon you observe here suggests\n",
    "it’s a good idea to give model neurons a while to settle down before injecting current."
   ]
  },
  {
   "cell_type": "markdown",
   "id": "d29f32b4-e49e-4138-9f1b-de91f965efd5",
   "metadata": {},
   "source": [
    "### 3.B Current clamp\n",
    "\n",
    "We'll now insert a current  clamp (as with the passive cell in the previous part) and run the model."
   ]
  },
  {
   "cell_type": "code",
   "execution_count": null,
   "id": "f3418dda-0452-49da-9987-0307f543a3b9",
   "metadata": {},
   "outputs": [],
   "source": [
    "# Insert a current clamp electrode in the centre of the soma\n",
    "stim = n.IClamp(soma(0.5))\n",
    "stim.amp   =  2 # amplitude in nA\n",
    "stim.delay = 50 # delay in ms\n",
    "stim.dur   =  1 # duration in ms\n",
    "\n",
    "# Set the initial membrane potential to -65mV\n",
    "n.finitialize(-65 * mV)\n",
    "\n",
    "# Run for 40 milliseconds\n",
    "n.continuerun(100 * ms)\n",
    "\n",
    "f = plt.figure(x_axis_label=\"t (ms)\", y_axis_label=\"v (mV)\", aspect_ratio=2)\n",
    "f.line(t, v, line_width=2)\n",
    "plt.show(f)"
   ]
  },
  {
   "cell_type": "markdown",
   "id": "c7b9999d-86d5-4dc1-8b97-05c34a8f6116",
   "metadata": {},
   "source": [
    "Now run the simulation 8 times, increasing the amplitude by 2 nA each time. \n",
    "\n",
    "- What do you see?\n",
    "- What is the lowest amplitude current required to produce an action potential?"
   ]
  },
  {
   "cell_type": "markdown",
   "id": "b1ac9fdf-2399-4da8-8562-c0fb8fdea744",
   "metadata": {},
   "source": [
    "### 3.C Blocking conductances"
   ]
  },
  {
   "cell_type": "markdown",
   "id": "d3144641-ee98-4431-b245-2d71311eb6c2",
   "metadata": {},
   "source": [
    "For the next part of the practical, the current should be big enough to elicit an action potential. How-\n",
    "ever, to make it clear what happens, it shouldn’t be too big; 15 nA is a suitable value to set the current\n",
    "to.\n",
    "\n",
    "Hodgkin and Huxley (1952) had to change the concentration of sodium and potassium in order to\n",
    "see how each affected the action potential. However, in the 1960s, methods for blocking channels\n",
    "pharmacologically were developed. Tetrodotoxin (TTX) is isolated from the Japanese puffer fish *fugu*\n",
    "and blocks Na+ channels involved in generating action potentials. Tetraethylammonium (TEA) blocks\n",
    "K+ channels.\n",
    "\n",
    "The effect of blocking one or other conductance can easily be tested with this simulation."
   ]
  },
  {
   "cell_type": "code",
   "execution_count": null,
   "id": "b535fe90-3838-4c50-94d2-b51b18b04649",
   "metadata": {},
   "outputs": [],
   "source": [
    "# Block the potassium channel\n",
    "soma(0.5).hh.gkbar = 0\n",
    "\n",
    "# Stimulus\n",
    "stim = n.IClamp(soma(0.5))\n",
    "stim.amp = 15    # amplitude in nA - should produce an action potential\n",
    "stim.delay = 50  # delay in ms\n",
    "stim.dur = 1     # duration in ms\n",
    "\n",
    "# Run the simulation again\n",
    "\n",
    "# Set the initial membrane potential to -65mV\n",
    "n.finitialize(-65 * mV)\n",
    "\n",
    "# Run for 40 milliseconds\n",
    "n.continuerun(100 * ms)\n",
    "\n",
    "f = plt.figure(x_axis_label=\"t (ms)\", y_axis_label=\"v (mV)\", aspect_ratio=2)\n",
    "f.line(t, v, line_width=2)\n",
    "plt.show(f)"
   ]
  },
  {
   "cell_type": "markdown",
   "id": "e58ffa16-a686-4860-a848-580c09f40040",
   "metadata": {},
   "source": [
    "- What do you see?\n",
    "- What can you deduce from this?\n",
    "\n",
    "Now unblock the potassium channels by setting them back to their original value, and try blocking the sodium channels:"
   ]
  },
  {
   "cell_type": "code",
   "execution_count": null,
   "id": "657ca48c-352d-4657-a13d-7e0ee90d2cb0",
   "metadata": {},
   "outputs": [],
   "source": [
    "# Unblock the potassium channel\n",
    "soma(0.5).hh.gkbar = 0.036\n",
    "\n",
    "# Block the sodium channel \n",
    "soma(0.5).hh.gnabar = 0\n",
    "\n",
    "# Run the simulation again\n",
    "\n",
    "# Set the initial membrane potential to -65mV\n",
    "n.finitialize(-65 * mV)\n",
    "\n",
    "# Run for 40 milliseconds\n",
    "n.continuerun(100 * ms)\n",
    "\n",
    "f = plt.figure(x_axis_label=\"t (ms)\", y_axis_label=\"v (mV)\", aspect_ratio=2)\n",
    "f.line(t, v, line_width=2)\n",
    "plt.show(f)"
   ]
  },
  {
   "cell_type": "markdown",
   "id": "d04727f4-6a83-4d23-bf8e-68d749fca5c7",
   "metadata": {},
   "source": [
    "- What do you see? (Note the scale!)\n",
    "- What can you deduce from this?\n"
   ]
  },
  {
   "cell_type": "markdown",
   "id": "6321d4f6-6b67-4d24-8a27-3b17a1cf92d5",
   "metadata": {},
   "source": [
    "Finally let's unblock the sodium channels."
   ]
  },
  {
   "cell_type": "code",
   "execution_count": null,
   "id": "a9096246-3fee-4ec3-8ea2-25983bfdc832",
   "metadata": {},
   "outputs": [],
   "source": [
    "# Block the sodium channel \n",
    "soma(0.5).hh.gnabar = 0.12"
   ]
  },
  {
   "cell_type": "markdown",
   "id": "d0f01824-846f-4462-aaaf-07b9b754ee1e",
   "metadata": {},
   "source": [
    "- What do you see? (Note the scale!)\n",
    "- What can you deduce from this?"
   ]
  }
 ],
 "metadata": {
  "kernelspec": {
   "display_name": "Python 3 (ipykernel)",
   "language": "python",
   "name": "python3"
  },
  "language_info": {
   "codemirror_mode": {
    "name": "ipython",
    "version": 3
   },
   "file_extension": ".py",
   "mimetype": "text/x-python",
   "name": "python",
   "nbconvert_exporter": "python",
   "pygments_lexer": "ipython3",
   "version": "3.12.11"
  }
 },
 "nbformat": 4,
 "nbformat_minor": 5
}
