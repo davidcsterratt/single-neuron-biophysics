{
 "cells": [
  {
   "cell_type": "markdown",
   "id": "e2d7bc20-9674-4e06-b68e-84aafc231726",
   "metadata": {},
   "source": [
    "# Single Neuron Biophysics notebooks\n",
    "\n",
    "*David Sterratt, October 2025*\n",
    "\n",
    "These notebooks accompany the MSc Neuroscience lecture on Single Neuron Biophysics\n",
    "\n",
    "## Part 1: Simulating how voltage changes over time\n",
    "\n",
    "### 1.A The first simulation\n",
    "\n",
    "We are going to write code to simulate how the voltage changes across the membrane of a cell in which there are almost equal concentrations of positive and negative ions on either side, but with a slight excess of positive charges on the inside, which means that the membrane potential $V$ is positive. The cell membrane has a capacitance of 1 picofarad, i.e. $C=1\\times 10^{-12}$F and a resistance of 10 gigaohms, i.e. $R=10\\times10^9\\Omega$.\n",
    "\n",
    "We will first set the parameters. Put your cursor in this cell and press \"Shift\" and \"Return\" together."
   ]
  },
  {
   "cell_type": "code",
   "execution_count": null,
   "id": "d4dc19f6-e13c-4a08-acf1-e0577288074e",
   "metadata": {},
   "outputs": [],
   "source": [
    "# Anything after a hash sign (#) is a comment - it will not do \n",
    "\n",
    "C = 1E-12 # farads.\n",
    "R = 10E9  # ohms"
   ]
  },
  {
   "cell_type": "markdown",
   "id": "8456b73d-3de7-4d53-beea-cea0f3f806a8",
   "metadata": {},
   "source": [
    "Note that in Python, we use [\"E\" notation to write numbers in scientific notation](https://en.wikipedia.org/wiki/Scientific_notation). The letter \"E\" or \"e\" (for \"exponent\") represents \"times ten raised to the power of\". For example `7E9` represents $7\\times 10^9$.  \n",
    "\n",
    "You can now check the value of C and R using the `print` command.\n",
    "\n",
    "Run the cell below with Shift+Return."
   ]
  },
  {
   "cell_type": "code",
   "execution_count": null,
   "id": "f151fff7-235f-430a-8f02-dbf44b4209a8",
   "metadata": {},
   "outputs": [],
   "source": [
    "print(C)\n",
    "print(R)"
   ]
  },
  {
   "cell_type": "markdown",
   "id": "c48087c7-f731-445d-9b48-0b72e31feff6",
   "metadata": {},
   "source": [
    "We decide that we'll be advancing time in 1 millisecond at a time, so $\\Delta t=1$ millisecond   $= 1\\times 10^{-3}$ seconds. By convention, we'll refer to $\\Delta t=1$ as `dt`.\n",
    "\n",
    "Run the cell below with Shift+Return (and do this from now on, unless we ask you to do something else)."
   ]
  },
  {
   "cell_type": "code",
   "execution_count": null,
   "id": "dba53fda-5858-4c3e-95bc-af3e1e62aa18",
   "metadata": {},
   "outputs": [],
   "source": [
    "dt = 1E-3 # seconds"
   ]
  },
  {
   "cell_type": "markdown",
   "id": "b8234647-5f2c-4013-8481-46ff39b2d1a4",
   "metadata": {},
   "source": [
    "Then we will initialise the time $t$ to 0 and the voltage $V$ to 5mV, and print them out in a prettier format than above."
   ]
  },
  {
   "cell_type": "code",
   "execution_count": null,
   "id": "f4cef904-e728-400e-b9c8-71f801759293",
   "metadata": {},
   "outputs": [],
   "source": [
    "t = 0    # seconds\n",
    "V = 5E-3 # volts\n",
    "print('t = %0.3fs ; V = %2.5fV'%(t, V)) "
   ]
  },
  {
   "cell_type": "markdown",
   "id": "1777d293-e34a-406c-8fe1-9d8dadd52b05",
   "metadata": {},
   "source": [
    "We'll now advance time forward by one step using the formula \n",
    "$$V(t+\\Delta t) = V(t) - \\frac{V(t)}{RC}\\Delta t$$\n",
    "and print out the new voltage.\n",
    "\n",
    "However, we want you to\n",
    "1. Fill in the code to update the membrane potential. Hints:\n",
    "   1. Look at the right hand side of the voltage update equation above\n",
    "   2. In Python the times sign is written `*` and the division sign is written with `/`\n",
    "   3. Remember that parentheses `(` and `)` are sometimes needed in mathematical expressions\n",
    "3. Run this cell with Ctrl+Return, which will mean that the cursor stays in the cell.\n",
    "4. Keep pressing Ctrl+Return, and see that happens to the voltage."
   ]
  },
  {
   "cell_type": "code",
   "execution_count": null,
   "id": "a3eb89d1-81d9-4078-8218-e4e7b8524ae9",
   "metadata": {},
   "outputs": [],
   "source": [
    "t = t + dt\n",
    "V = # Fill this in\n",
    "print('t = %0.3fs ; V = %2.5fV'%(t, V)) "
   ]
  },
  {
   "cell_type": "markdown",
   "id": "12b9d790-9a28-499a-a961-c43d345858ea",
   "metadata": {},
   "source": [
    "Well done! You've run a simulation. Technically speaking you've solved the simulation using Euler integration."
   ]
  },
  {
   "cell_type": "markdown",
   "id": "41598802-9f4c-4c9a-83e5-810a7fb38585",
   "metadata": {},
   "source": [
    "## 1.B Saving and visualising the output\n",
    "\n",
    "We can see that the membrane potential decays in the simulation above, but it would be good (a) to visualise it and (b) instead of clicking, automate stepping through time.\n",
    "\n",
    "We're going to\n",
    "1. Create some __arrays__ to store the values of $V$ and $t$.\n",
    "2. Iterate the update procedure"
   ]
  },
  {
   "cell_type": "code",
   "execution_count": null,
   "id": "2869b449-e63d-420e-bfa0-fffda68256c3",
   "metadata": {},
   "outputs": [],
   "source": [
    "import numpy as np                   # A module that we need to create arrays\n",
    "\n",
    "# Parameters\n",
    "C = 1E-12 # farads\n",
    "R = 10E9  # ohms\n",
    "\n",
    "# Simulation control\n",
    "N = 500          # Number of steps we want to run for\n",
    "dt = 1E-3         # Time step\n",
    "\n",
    "# Space to store output\n",
    "t = np.zeros(N+1) # Array with N+1 elements where we will save time\n",
    "V = np.zeros(N+1) # Array with N+1 elements where we will save membrane potential\n",
    "\n",
    "# Initialisation\n",
    "t[0] = 0    # ms\n",
    "V[0] = 5E-3 # mV\n",
    "\n",
    "# Repeat the update step N times\n",
    "for i in range(N):\n",
    "    t[i+1] = t[i] + dt\n",
    "    V[i+1] = V[i] - V[i]/(R*C)*dt"
   ]
  },
  {
   "cell_type": "markdown",
   "id": "5f738a65-4980-4d4d-8c56-b242f1391122",
   "metadata": {},
   "source": [
    "Now we'll plot - don't worry about the code below; just press Shift+Enter."
   ]
  },
  {
   "cell_type": "code",
   "execution_count": null,
   "id": "c4e7e3ca-1fff-4775-a6da-de8a962701fe",
   "metadata": {},
   "outputs": [],
   "source": [
    "from bokeh.io import output_notebook # A module that we need to plot \n",
    "import bokeh.plotting as plt         # A module that we need to plot \n",
    "output_notebook()\n",
    "\n",
    "f = plt.figure(x_axis_label=\"t (s)\", y_axis_label=\"v (V)\", aspect_ratio=2)\n",
    "f.line(t, V, line_width=2)\n",
    "plt.show(f)"
   ]
  },
  {
   "cell_type": "markdown",
   "id": "c9528788-9f97-4b22-a598-c24796d4f32b",
   "metadata": {},
   "source": [
    "Questions:\n",
    "\n",
    "1. How long does it take for the voltage to reduce to about 1/3 of the way to 0? (You can zoom in)\n",
    "2. Try increasing R by a factor of 5. How slow is the decrease now?\n",
    "3. Try increasing C by a factor of 2. How slow is the decrease now?\n",
    "4. What is the product of $R$ and $C$? Does it relate to the time of the decrease?\n",
    "5. Try increasing the timestep by a factor of 10 and decreasing N by a factor of 10\n",
    "6. Try the same thing again!\n"
   ]
  }
 ],
 "metadata": {
  "kernelspec": {
   "display_name": "Python 3 (ipykernel)",
   "language": "python",
   "name": "python3"
  },
  "language_info": {
   "codemirror_mode": {
    "name": "ipython",
    "version": 3
   },
   "file_extension": ".py",
   "mimetype": "text/x-python",
   "name": "python",
   "nbconvert_exporter": "python",
   "pygments_lexer": "ipython3",
   "version": "3.12.11"
  }
 },
 "nbformat": 4,
 "nbformat_minor": 5
}
