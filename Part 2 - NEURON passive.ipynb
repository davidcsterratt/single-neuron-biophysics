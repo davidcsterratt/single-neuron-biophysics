{
 "cells": [
  {
   "cell_type": "markdown",
   "id": "56ed4abd-5d24-4351-bf17-0448ed2f23fb",
   "metadata": {},
   "source": [
    "# Single Neuron Biophysics notebooks\n",
    "\n",
    "*David Sterratt, October 2025*\n",
    "\n",
    "These notebooks accompany the MSc Neuroscience lecture on Single Neuron Biophysics"
   ]
  },
  {
   "cell_type": "markdown",
   "id": "8521f744-77a3-4585-b4de-151f14493a07",
   "metadata": {},
   "source": [
    "## Part 2: Using the NEURON simulation library\n",
    "\n",
    "The code in Part 1 works for the very simple example, and could be extended further. However, it is also not very efficient, and specifying more complex models would require a lot of code. Modelling environments like the NEURON simulation library are designed to be very efficient, and to make model specification (fairly) intuitive.\n",
    "\n",
    "We'll start by installing the package. Press Shift+Return in the cell below, and wait for it finish, when it will say \"Successfully installed...\"."
   ]
  },
  {
   "cell_type": "code",
   "execution_count": null,
   "id": "f3510948-7daf-4792-8581-69ebef08d080",
   "metadata": {},
   "outputs": [],
   "source": [
    "!pip install neuron"
   ]
  },
  {
   "cell_type": "markdown",
   "id": "94b89343-a31a-4bcf-b644-6d76dafdb8d6",
   "metadata": {},
   "source": [
    "Now import the relevant parts of NEURON. Don't worry about the warning about the DISPLAY variable."
   ]
  },
  {
   "cell_type": "code",
   "execution_count": null,
   "id": "945f2178-93c3-4616-8b13-b8600a42a06b",
   "metadata": {},
   "outputs": [],
   "source": [
    "from neuron import n\n",
    "from neuron.units import ms, mV\n",
    "n.load_file(\"stdrun.hoc\")"
   ]
  },
  {
   "cell_type": "markdown",
   "id": "4af59d5d-a1f0-41b4-951b-94ce43ebf381",
   "metadata": {},
   "source": [
    "We'll also import the graphics plotting package before we start"
   ]
  },
  {
   "cell_type": "code",
   "execution_count": null,
   "id": "f64661ec-35ca-40f6-aeff-1d38a695ac33",
   "metadata": {},
   "outputs": [],
   "source": [
    "from bokeh.io import output_notebook # A module that we need to plot \n",
    "import bokeh.plotting as plt         # A module that we need to plot \n",
    "output_notebook()"
   ]
  },
  {
   "cell_type": "markdown",
   "id": "bd6c7731-ef0f-4b3f-a81d-c964be79e4b5",
   "metadata": {},
   "source": [
    "### 2.A Create and run a cell model\n",
    "\n",
    "We will first create the simplest possible model of a patch of\n",
    "membrane: a single passive compartment.\n",
    "\n",
    "![img](schematic-cir-RC.png)\n",
    "\n",
    "The equivalent electrical\n",
    "circuit comprises a membrane capacitance $C_\\text{m}$, a membrane\n",
    "resistance $R_\\text{m}$, a battery whose electromotive force is the same as\n",
    "the resting membrane potential $V_\\text{m}$ and a current source $I_\\text{e}$.  We\n",
    "will imagine our circuit represents a soma, though in fact it misses\n",
    "some crucial features of a real soma, namely active properties.\n",
    "\n",
    "First we'll create a soma and print its default priorities:"
   ]
  },
  {
   "cell_type": "code",
   "execution_count": null,
   "id": "227b18bb-cf1d-4894-993f-a5a0833f9022",
   "metadata": {},
   "outputs": [],
   "source": [
    "# Create the soma\n",
    "soma = n.Section(\"soma\")\n",
    "soma.psection()"
   ]
  },
  {
   "cell_type": "markdown",
   "id": "2ced2417-f5ba-4b6e-a6da-c94579a6a4c2",
   "metadata": {},
   "source": [
    "We don't need to know what all of these are, but some are:\n",
    "- `cm` - specific capacitance in µF/cm<sup>-2</sup>\n",
    "- `L` - length of the \"section\" in µm, which is a cylinder\n",
    "- `diam` - diameter of the \"section\" in µm\n",
    "\n",
    "Note there is no membrane resistance mentioned; we will introduce this by inserting a \"passive\" mechanism.  NEURON has a special channel type called `pas` to\n",
    "simulate the membrane resistance and reversal potential. To insert it into the membrane, type:"
   ]
  },
  {
   "cell_type": "code",
   "execution_count": null,
   "id": "bb1e20c3-37fd-4bc8-8a11-d81c365fb814",
   "metadata": {},
   "outputs": [],
   "source": [
    "# Insert passive channels\n",
    "soma.insert(n.pas)\n",
    "soma.psection()"
   ]
  },
  {
   "cell_type": "markdown",
   "id": "03b9b832-a695-46e0-8e69-b8e8df524b25",
   "metadata": {},
   "source": [
    "Now we can see a `pas` in `density_mechs`. It has:\n",
    "- `g` specific membrane conductance $g_\\text{m}$ in S/cm<sup>2</sup>. As conductance is the inverse of resistance, the value 0.001S/cm<sup>2</sup> is equivalent to a specific membrane resistance of 1000Ωcm<sup>2</sup>\n",
    "- `e` the passive associated reversal potential $E_\\text{m}$ in mV\n",
    "- `i` the current presently flowing though the passive mechanism in mA/cm<sup>2</sup>\n",
    "\n",
    "We can now run the simulation with the code below. What would you expect to see?"
   ]
  },
  {
   "cell_type": "code",
   "execution_count": null,
   "id": "42525ec6-b221-40b1-83d5-6c340bec22df",
   "metadata": {},
   "outputs": [],
   "source": [
    "# Set up recordings of the membrane potential and time\n",
    "v = n.Vector().record(soma(0.5)._ref_v)      # Membrane potential vector\n",
    "i_pas = n.Vector().record(soma(0.5)._ref_i_pas)  # Current through passive mechanism\n",
    "i_cap = n.Vector().record(soma(0.5)._ref_i_cap)  # Current through capacitive mechanism\n",
    "t = n.Vector().record(n._ref_t)              # Time stamp vector\n",
    "\n",
    "# Set the initial membrane potential to -65mV\n",
    "n.finitialize(-65 * mV)\n",
    "\n",
    "# Run for 40 milliseconds\n",
    "n.continuerun(40 * ms)"
   ]
  },
  {
   "cell_type": "code",
   "execution_count": null,
   "id": "d72a9a21-619f-4b5b-a262-66fe7992838b",
   "metadata": {},
   "outputs": [],
   "source": [
    "f = plt.figure(x_axis_label=\"t (ms)\", y_axis_label=\"v (mV)\", aspect_ratio=2)\n",
    "f.line(t, v, line_width=2)\n",
    "plt.show(f)\n"
   ]
  },
  {
   "cell_type": "markdown",
   "id": "83add042-0d40-44da-b7e8-11260a8ec528",
   "metadata": {},
   "source": [
    "### 2.C Setting the specific membrane resistance\n",
    "\n",
    "We should see the same sort of behaviour as in the simulation we wrote earlier.\n",
    "\n",
    "A more typical value for the specific membrane resistance is $R_\\text{m} = 10$Ωcm<sup>2</sup>. This means that the specific\n",
    "membrane conductance should be 0.0001 S/cm<sup>2</sup>. Run the cell below to change the value of the membrane conductance and re-run the simulation. "
   ]
  },
  {
   "cell_type": "code",
   "execution_count": null,
   "id": "80a03d73-52ad-467a-9433-ddcf206533f5",
   "metadata": {},
   "outputs": [],
   "source": [
    "# Set the membrane conductance to 0.0001 S/cm2\n",
    "soma(0.5).pas.g = 0.0001\n",
    "\n",
    "# Set the initial membrane potential to -65mV\n",
    "n.finitialize(-65 * mV)\n",
    "\n",
    "# Run for 40 milliseconds\n",
    "n.continuerun(40 * ms)\n",
    "\n",
    "# Plot\n",
    "f = plt.figure(x_axis_label=\"t (ms)\", y_axis_label=\"v (mV)\", aspect_ratio=2)\n",
    "f.line(t, v, line_width=2)\n",
    "plt.show(f)"
   ]
  },
  {
   "cell_type": "markdown",
   "id": "d29f32b4-e49e-4138-9f1b-de91f965efd5",
   "metadata": {},
   "source": [
    "### 2.C Injecting current into a single compartment\n",
    "\n",
    "We have now built a single compartment with passive channels. To test its properties, we will inject some current. To do this, run this cell:"
   ]
  },
  {
   "cell_type": "code",
   "execution_count": null,
   "id": "2b93fa53-83db-4617-9c93-968d5f056eb8",
   "metadata": {},
   "outputs": [],
   "source": [
    "# Insert a current clamp electrode in the centre of the soma\n",
    "stim = n.IClamp(soma(0.5))\n",
    "stim.amp   =   1 # nA\n",
    "stim.delay = 100 # ms\n",
    "stim.dur   = 100 # ms "
   ]
  },
  {
   "cell_type": "markdown",
   "id": "c67858e1-0910-4eb6-bc91-07e2d55b4bce",
   "metadata": {},
   "source": [
    "This will inject a pulse of current with an amplitude of 1 nA (`stim.amp`) starting 100 ms (`stim.delay`) after the simulation has\n",
    "started and lasting for 100 ms (`stim.dur`).  We will want to run the simulation for longer, to see the full effect."
   ]
  },
  {
   "cell_type": "code",
   "execution_count": null,
   "id": "f3418dda-0452-49da-9987-0307f543a3b9",
   "metadata": {},
   "outputs": [],
   "source": [
    "# Set the initial membrane potential to -65mV\n",
    "n.finitialize(-65 * mV)\n",
    "\n",
    "# Run for 250 milliseconds\n",
    "n.continuerun(250 * ms)\n",
    "\n",
    "f = plt.figure(x_axis_label=\"t (ms)\", y_axis_label=\"v (mV)\", aspect_ratio=2)\n",
    "f.line(t, v, line_width=2)\n",
    "plt.show(f)\n"
   ]
  },
  {
   "cell_type": "markdown",
   "id": "d3144641-ee98-4431-b245-2d71311eb6c2",
   "metadata": {},
   "source": [
    "We can also examine the current flowing through the membrane (blue) and the current flowing onto the membrane (red). Remember that positive current is outwards. "
   ]
  },
  {
   "cell_type": "code",
   "execution_count": null,
   "id": "b535fe90-3838-4c50-94d2-b51b18b04649",
   "metadata": {},
   "outputs": [],
   "source": [
    "f = plt.figure(x_axis_label=\"t (ms)\", y_axis_label=\"i (mA)\", aspect_ratio=2)\n",
    "f.line(t, i_pas, line_width=2)\n",
    "f.line(t, i_cap, line_width=2, color='red')\n",
    "\n",
    "plt.show(f)"
   ]
  },
  {
   "cell_type": "markdown",
   "id": "51e980a8-3619-4094-a279-4002fc792024",
   "metadata": {},
   "source": [
    "Try to explain what you're seeing to yourself. Then look at the explanation below.\n",
    "\n",
    "### Explanation\n",
    "\n",
    "The voltage first settles to −70 mV (the resting membrane potential) from its starting value of −65 mV. Then, at 100 ms (the time of the current\n",
    "injection onset), it starts to rise, though not instantaneously. This is because when current is injected it will first mainly charge the membrane capacitance, but as this charges up, more of it will flow through\n",
    "the membrane resistance. It levels out at about −63.65 mV. In this steady state, all the current flows\n",
    "through the membrane resistance rather than onto the membrane capacitance.\n",
    "At 200 ms (the time of the current offset) the membrane potential starts to decay back to the resting\n",
    "potential. This is due to the capacitance discharging slowly through the resistance. This is a bit like a\n",
    "battery going flat, though on a much faster timescale!\n",
    "We can check that the simulation is doing what it should be by making measurements of the simulated\n",
    "results and then comparing them to the theoretical values of the same measurements.\n",
    "\n",
    "\n",
    "#### The input resistance\n",
    "The input resistance $R_\\text{in}$ is a measure of how much current needs to be injected to increase the membrane\n",
    "potential by a certain amount, and is often measured experimentally. The input resistance is defined\n",
    "\n",
    "$$R_{\\text{in}} = \\frac{\\Delta V}{\\Delta i_\\text{e}}$$\n",
    "\n",
    "where $\\Delta V$ is a small change in membrane potential due to a small change in injection current $\\Delta i_{\\text{e}}$. In\n",
    "the case of voltage-dependent conductances, the input resistance may vary depending on the holding\n",
    "membrane potential it is measured at. In our case, the conductances are fixed, so the input resistance\n",
    "will not depend on the holding membrane potential and we do not need to make our change in current\n",
    "and membrane potential small."
   ]
  }
 ],
 "metadata": {
  "kernelspec": {
   "display_name": "Python 3 (ipykernel)",
   "language": "python",
   "name": "python3"
  },
  "language_info": {
   "codemirror_mode": {
    "name": "ipython",
    "version": 3
   },
   "file_extension": ".py",
   "mimetype": "text/x-python",
   "name": "python",
   "nbconvert_exporter": "python",
   "pygments_lexer": "ipython3",
   "version": "3.12.11"
  }
 },
 "nbformat": 4,
 "nbformat_minor": 5
}
